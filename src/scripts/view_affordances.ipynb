{
 "cells": [
  {
   "cell_type": "code",
   "execution_count": 1,
   "metadata": {},
   "outputs": [],
   "source": [
    "from os.path import join, dirname, abspath\n",
    "import sys\n",
    "CURRENT_DIR = os.getcwd()\n",
    "sys.path.insert(0, join(CURRENT_DIR, '../..'))  # Import local models"
   ]
  },
  {
   "cell_type": "code",
   "execution_count": 2,
   "metadata": {},
   "outputs": [
    {
     "name": "stdout",
     "output_type": "stream",
     "text": [
      "pybullet build time: Sep 22 2020 00:56:01\n"
     ]
    },
    {
     "name": "stderr",
     "output_type": "stream",
     "text": [
      "<frozen importlib._bootstrap>:219: RuntimeWarning: numpy.ufunc size changed, may indicate binary incompatibility. Expected 216 from C header, got 232 from PyObject\n",
      "<frozen importlib._bootstrap>:219: RuntimeWarning: numpy.ufunc size changed, may indicate binary incompatibility. Expected 216 from C header, got 232 from PyObject\n",
      "<frozen importlib._bootstrap>:219: RuntimeWarning: numpy.ufunc size changed, may indicate binary incompatibility. Expected 216 from C header, got 232 from PyObject\n"
     ]
    }
   ],
   "source": [
    "from models.PickModel import PickModel\n",
    "from models.PlaceModel import PlaceModel\n",
    "from cliport.dataset import RavensDataset\n",
    "import torch\n",
    "from src.scripts.utils import get_affordance_map_from_formatted_input\n",
    "import matplotlib.pyplot as plt\n",
    "import numpy as np"
   ]
  },
  {
   "cell_type": "code",
   "execution_count": 20,
   "metadata": {},
   "outputs": [],
   "source": [
    "pick_model = PickModel(num_rotations=1, batchnorm = False).to('cuda')"
   ]
  },
  {
   "cell_type": "code",
   "execution_count": null,
   "metadata": {},
   "outputs": [],
   "source": [
    "pick_model.load_state_dict(torch.load(\"/home/ubuntu/VLM/checkpoint/checkpoint_model_best_place.pth\")['state_dict'])"
   ]
  },
  {
   "cell_type": "code",
   "execution_count": 4,
   "metadata": {},
   "outputs": [],
   "source": [
    "place_model = PlaceModel(num_rotations=12, crop_size=64, batchnorm = False).to('cuda')"
   ]
  },
  {
   "cell_type": "code",
   "execution_count": 28,
   "metadata": {},
   "outputs": [
    {
     "data": {
      "text/plain": [
       "<All keys matched successfully>"
      ]
     },
     "execution_count": 28,
     "metadata": {},
     "output_type": "execute_result"
    }
   ],
   "source": [
    "place_model.load_state_dict(torch.load(\"/home/ubuntu/VLM/checkpoint/checkpoint_model_best_place.pth\")['state_dict'])"
   ]
  },
  {
   "cell_type": "code",
   "execution_count": 7,
   "metadata": {},
   "outputs": [],
   "source": [
    "train_dataset_cfg = {\"dataset\":{\"type\": \"single\",\n",
    "                    \"images\": True,\n",
    "                    \"cache\": False,\n",
    "                    \"augment\":{\"theta_sigma\":60},\n",
    "                    \"cache_size\": 350},\n",
    "                    }\n",
    "\n",
    "# load data\n",
    "train_dataset = RavensDataset('/home/ubuntu/cliport/data/stack-block-pyramid-seq-seen-colors-val', train_dataset_cfg, n_demos=100, augment=False)"
   ]
  },
  {
   "cell_type": "code",
   "execution_count": 8,
   "metadata": {},
   "outputs": [],
   "source": [
    "batch_data = next(iter(train_dataset))\n",
    "inp, _ = batch_data"
   ]
  },
  {
   "cell_type": "code",
   "execution_count": 9,
   "metadata": {},
   "outputs": [
    {
     "data": {
      "text/plain": [
       "'put the brown block on the green and cyan blocks'"
      ]
     },
     "execution_count": 9,
     "metadata": {},
     "output_type": "execute_result"
    }
   ],
   "source": [
    "inp['lang_goal']"
   ]
  },
  {
   "cell_type": "code",
   "execution_count": 147,
   "metadata": {},
   "outputs": [],
   "source": [
    "inp['lang_goal'] = \"put the left block on the red block\""
   ]
  },
  {
   "cell_type": "code",
   "execution_count": 148,
   "metadata": {},
   "outputs": [],
   "source": [
    "def run_pick():\n",
    "    pick_model.eval()\n",
    "    loss_fn = torch.nn.CrossEntropyLoss()\n",
    "\n",
    "    with torch.no_grad():\n",
    "        p0 = inp['p0']\n",
    "        yaw_deg = inp['p0_theta']\n",
    "        output_size = (\n",
    "            1, 320, 160)\n",
    "\n",
    "        pick_demonstration = get_affordance_map_from_formatted_input(x=p0[0], y=p0[1], rotation_deg=yaw_deg, output_size=output_size)\n",
    "        device = 'cuda'\n",
    "        img_cuda = torch.Tensor(inp['img']).to(device)\n",
    "        language_cuda = inp['lang_goal']\n",
    "\n",
    "        affordances = pick_model(img_cuda, language_cuda)\n",
    "        pick_model(img_cuda, language_cuda)\n",
    "        affordances = affordances.view(affordances.shape[0], -1)\n",
    "        pick_demonstration = torch.unsqueeze(pick_demonstration, dim=0).to(device)\n",
    "        pick_demonstration = pick_demonstration.view(pick_demonstration.shape[0], -1)\n",
    "        loss = loss_fn(affordances, pick_demonstration)\n",
    "        \n",
    "        preds = torch.nn.functional.softmax(affordances, dim=1)\n",
    "        preds = preds.cpu()\n",
    "        preds = preds.view(320,160)\n",
    "        location = np.unravel_index(torch.argmax(preds).numpy(), (320,160))\n",
    "    \n",
    "    return loss, preds, location\n"
   ]
  },
  {
   "cell_type": "code",
   "execution_count": 12,
   "metadata": {},
   "outputs": [],
   "source": [
    "def run_place():\n",
    "    place_model.eval()\n",
    "    loss_fn = torch.nn.CrossEntropyLoss()\n",
    "    with torch.no_grad():\n",
    "        p0 = inp['p0']\n",
    "        p1 = inp['p1']\n",
    "        p1_deg = inp['p1_theta']\n",
    "        output_size = (12, 320, 160)\n",
    "\n",
    "        place_demonstration = get_affordance_map_from_formatted_input(x=p1[0], y=p1[1], rotation_deg=p1_deg, output_size=output_size)\n",
    "        device = 'cuda' # TODO: Not do this\n",
    "        img_cuda = torch.Tensor(inp['img']).to(device)\n",
    "        language_cuda = inp['lang_goal']#.to(device)\n",
    "\n",
    "        affordances = place_model(img_cuda, language_cuda, p0)\n",
    "        affordances = affordances.view(affordances.shape[0], -1)\n",
    "        place_demonstration = torch.unsqueeze(place_demonstration, dim=0).to(device)\n",
    "        place_demonstration = place_demonstration.view(place_demonstration.shape[0], -1)\n",
    "        loss = loss_fn(affordances, place_demonstration)\n",
    "\n",
    "        preds = torch.nn.functional.softmax(affordances, dim=1)\n",
    "        preds = preds.cpu()\n",
    "        preds = preds.view(12, 320,160)\n",
    "        location = np.unravel_index(torch.argmax(preds).numpy(), (12, 320,160))        \n",
    "        \n",
    "    return loss, preds, location\n"
   ]
  },
  {
   "cell_type": "code",
   "execution_count": 13,
   "metadata": {},
   "outputs": [],
   "source": [
    "loss, preds, location = run_place()        "
   ]
  },
  {
   "cell_type": "code",
   "execution_count": 16,
   "metadata": {},
   "outputs": [
    {
     "data": {
      "text/plain": [
       "(7, 47, 68)"
      ]
     },
     "execution_count": 16,
     "metadata": {},
     "output_type": "execute_result"
    }
   ],
   "source": [
    "location"
   ]
  },
  {
   "cell_type": "code",
   "execution_count": 20,
   "metadata": {},
   "outputs": [
    {
     "data": {
      "text/plain": [
       "<matplotlib.image.AxesImage at 0x7f03302875e0>"
      ]
     },
     "execution_count": 20,
     "metadata": {},
     "output_type": "execute_result"
    },
    {
     "data": {
      "image/png": "[encoded data removed]",
      "text/plain": [
       "<Figure size 640x480 with 1 Axes>"
      ]
     },
     "metadata": {},
     "output_type": "display_data"
    }
   ],
   "source": [
    "channel = 2\n",
    "plt.imshow(preds[channel].T/preds[channel].max())"
   ]
  },
  {
   "cell_type": "code",
   "execution_count": 21,
   "metadata": {},
   "outputs": [
    {
     "data": {
      "text/plain": [
       "<matplotlib.image.AxesImage at 0x7f033008aa00>"
      ]
     },
     "execution_count": 21,
     "metadata": {},
     "output_type": "execute_result"
    },
    {
     "data": {
      "image/png": "[encoded data removed]",
      "text/plain": [
       "<Figure size 640x480 with 1 Axes>"
      ]
     },
     "metadata": {},
     "output_type": "display_data"
    }
   ],
   "source": [
    "plt.imshow(inp['img'][:,:,0:3].transpose((1,0,2))/255)"
   ]
  },
  {
   "cell_type": "code",
   "execution_count": 22,
   "metadata": {},
   "outputs": [],
   "source": [
    "import wandb"
   ]
  },
  {
   "cell_type": "code",
   "execution_count": 23,
   "metadata": {},
   "outputs": [
    {
     "name": "stderr",
     "output_type": "stream",
     "text": [
      "E1206 02:44:13.724067 139655815342976 jupyter.py:99] Failed to query for notebook name, you can set it manually with the WANDB_NOTEBOOK_NAME environment variable\n",
      "wandb: Currently logged in as: kgmelin (use `wandb login --relogin` to force relogin)\n",
      "/usr/lib/python3/dist-packages/requests/__init__.py:89: RequestsDependencyWarning: urllib3 (1.26.13) or chardet (3.0.4) doesn't match a supported version!\n",
      "  warnings.warn(\"urllib3 ({}) or chardet ({}) doesn't match a supported \"\n",
      "wandb: wandb version 0.13.5 is available!  To upgrade, please run:\n",
      "wandb:  $ pip install wandb --upgrade\n"
     ]
    },
    {
     "data": {
      "text/html": [
       "\n",
       "                Tracking run with wandb version 0.10.15<br/>\n",
       "                Resuming run <strong style=\"color:#cdcd00\">model</strong> to <a href=\"https://wandb.ai\" target=\"_blank\">Weights & Biases</a> <a href=\"https://docs.wandb.com/integrations/jupyter.html\" target=\"_blank\">(Documentation)</a>.<br/>\n",
       "                Project page: <a href=\"https://wandb.ai/11785-vlm/11785-Final-Project\" target=\"_blank\">https://wandb.ai/11785-vlm/11785-Final-Project</a><br/>\n",
       "                Run page: <a href=\"https://wandb.ai/11785-vlm/11785-Final-Project/runs/hhyzevc5\" target=\"_blank\">https://wandb.ai/11785-vlm/11785-Final-Project/runs/hhyzevc5</a><br/>\n",
       "                Run data is saved locally in <code>/home/ubuntu/VLM/src/scripts/wandb/run-20221206_024413-hhyzevc5</code><br/><br/>\n",
       "            "
      ],
      "text/plain": [
       "<IPython.core.display.HTML object>"
      ]
     },
     "metadata": {},
     "output_type": "display_data"
    },
    {
     "data": {
      "text/html": [
       "<h1>Run(hhyzevc5)</h1><iframe src=\"https://wandb.ai/11785-vlm/11785-Final-Project/runs/hhyzevc5\" style=\"border:none;width:100%;height:400px\"></iframe>"
      ],
      "text/plain": [
       "<wandb.sdk.wandb_run.Run at 0x7f03254617c0>"
      ]
     },
     "execution_count": 23,
     "metadata": {},
     "output_type": "execute_result"
    }
   ],
   "source": [
    "wandb.init(project=\"11785-Final-Project\", entity=\"11785-vlm\", name=\"model\", resume = \"must\", id=\"hhyzevc5\")"
   ]
  },
  {
   "cell_type": "code",
   "execution_count": 24,
   "metadata": {},
   "outputs": [
    {
     "name": "stderr",
     "output_type": "stream",
     "text": [
      "wandb: WARNING Saving files without folders. If you want to preserve sub directories pass base_path to wandb.save, i.e. wandb.save(\"/mnt/folder/file.h5\", base_path=\"/mnt\")\n"
     ]
    },
    {
     "data": {
      "text/plain": [
       "['/home/ubuntu/VLM/src/scripts/wandb/run-20221206_024413-hhyzevc5/files/checkpoint_model_best.pth']"
      ]
     },
     "execution_count": 24,
     "metadata": {},
     "output_type": "execute_result"
    }
   ],
   "source": [
    "wandb.save(\"/home/ubuntu/VLM/checkpoint/checkpoint_model_best.pth\")"
   ]
  },
  {
   "cell_type": "code",
   "execution_count": 25,
   "metadata": {},
   "outputs": [
    {
     "data": {
      "text/html": [
       "<br/>Waiting for W&B process to finish, PID 62770<br/>Program ended successfully."
      ],
      "text/plain": [
       "<IPython.core.display.HTML object>"
      ]
     },
     "metadata": {},
     "output_type": "display_data"
    },
    {
     "data": {
      "text/html": [
       "Find user logs for this run at: <code>/home/ubuntu/VLM/src/scripts/wandb/run-20221206_024413-hhyzevc5/logs/debug.log</code>"
      ],
      "text/plain": [
       "<IPython.core.display.HTML object>"
      ]
     },
     "metadata": {},
     "output_type": "display_data"
    },
    {
     "data": {
      "text/html": [
       "Find internal logs for this run at: <code>/home/ubuntu/VLM/src/scripts/wandb/run-20221206_024413-hhyzevc5/logs/debug-internal.log</code>"
      ],
      "text/plain": [
       "<IPython.core.display.HTML object>"
      ]
     },
     "metadata": {},
     "output_type": "display_data"
    },
    {
     "data": {
      "text/html": [
       "<h3>Run summary:</h3><br/><style>\n",
       "    table.wandb td:nth-child(1) { padding: 0 10px; text-align: right }\n",
       "    </style><table class=\"wandb\">\n",
       "<tr><td>train_attention_loss</td><td>9.0376</td></tr><tr><td>lr</td><td>0.0001</td></tr><tr><td>_step</td><td>659</td></tr><tr><td>_runtime</td><td>89654</td></tr><tr><td>_timestamp</td><td>1670292703</td></tr><tr><td>val_total_loss</td><td>14.23604</td></tr><tr><td>train_total_loss</td><td>9.0376</td></tr><tr><td>val_attention_loss</td><td>14.23604</td></tr></table>"
      ],
      "text/plain": [
       "<IPython.core.display.HTML object>"
      ]
     },
     "metadata": {},
     "output_type": "display_data"
    },
    {
     "data": {
      "text/html": [
       "Synced 5 W&B file(s), 0 media file(s), 0 artifact file(s) and 1 other file(s)"
      ],
      "text/plain": [
       "<IPython.core.display.HTML object>"
      ]
     },
     "metadata": {},
     "output_type": "display_data"
    },
    {
     "data": {
      "text/html": [
       "\n",
       "                    <br/>Synced <strong style=\"color:#cdcd00\">model</strong>: <a href=\"https://wandb.ai/11785-vlm/11785-Final-Project/runs/hhyzevc5\" target=\"_blank\">https://wandb.ai/11785-vlm/11785-Final-Project/runs/hhyzevc5</a><br/>\n",
       "                "
      ],
      "text/plain": [
       "<IPython.core.display.HTML object>"
      ]
     },
     "metadata": {},
     "output_type": "display_data"
    }
   ],
   "source": [
    "wandb.finish()"
   ]
  },
  {
   "cell_type": "code",
   "execution_count": 29,
   "metadata": {},
   "outputs": [
    {
     "data": {
      "text/plain": [
       "<_io.TextIOWrapper name='./pick_model/checkpoint_model_best.pth' mode='r' encoding='UTF-8'>"
      ]
     },
     "execution_count": 29,
     "metadata": {},
     "output_type": "execute_result"
    }
   ],
   "source": [
    "api = wandb.Api()\n",
    "\n",
    "run1 = api.run(\"11785-vlm/11785-Final-Project/2t79bsv5\")\n",
    "run1.file(\"checkpoint_model_best.pth\").download(root=\"./pick_model\", replace=True)"
   ]
  }
 ],
 "metadata": {
  "kernelspec": {
   "display_name": "Python 3.8.10 ('cliport_env': venv)",
   "language": "python",
   "name": "python3"
  },
  "language_info": {
   "codemirror_mode": {
    "name": "ipython",
    "version": 3
   },
   "file_extension": ".py",
   "mimetype": "text/x-python",
   "name": "python",
   "nbconvert_exporter": "python",
   "pygments_lexer": "ipython3",
   "version": "3.8.10"
  },
  "orig_nbformat": 4,
  "vscode": {
   "interpreter": {
    "hash": "324ebeeaac71c80d764223a438f4ca7776ceeb8ded420916023e4585707f70ec"
   }
  }
 },
 "nbformat": 4,
 "nbformat_minor": 2
}
