{
 "cells": [
  {
   "cell_type": "code",
   "execution_count": null,
   "metadata": {},
   "outputs": [],
   "source": [
    "import os\n",
    "from os.path import join, dirname, abspath\n",
    "import sys\n",
    "CURRENT_DIR = os.getcwd()\n",
    "sys.path.insert(0, join(CURRENT_DIR, '../..'))  # Import local models\n",
    "\n",
    "from cliport.environments.environment import Environment\n",
    "import torch\n",
    "from agents.PickPlaceAgent import PickPlaceAgent\n",
    "from cliport import tasks\n",
    "from cliport.dataset import RavensDataset\n",
    "import numpy as np\n",
    "from cliport.utils import utils\n"
   ]
  },
  {
   "cell_type": "code",
   "execution_count": 3,
   "metadata": {},
   "outputs": [
    {
     "name": "stdout",
     "output_type": "stream",
     "text": [
      "text argument:/home/ubuntu/cliport/cliport/environments/assets/\n",
      "int args: ["
     ]
    }
   ],
   "source": [
    "record_cfg = {\n",
    "  \"save_video\": False,\n",
    "  \"save_video_path\": \"/home/ubuntu/VLM/videos/\",\n",
    "  \"add_text\": True,\n",
    "  \"fps\": 20,\n",
    "  \"video_height\": 640,\n",
    "  \"video_width\": 720,\n",
    "}\n",
    "\n",
    "assets_root = \"/home/ubuntu/cliport/cliport/environments/assets/\"\n",
    "\n",
    "env = Environment(\n",
    "    assets_root,\n",
    "    disp=False,\n",
    "    shared_memory=False,\n",
    "    hz=480,\n",
    "    record_cfg=record_cfg\n",
    ")"
   ]
  },
  {
   "cell_type": "code",
   "execution_count": 9,
   "metadata": {},
   "outputs": [
    {
     "data": {
      "text/plain": [
       "<All keys matched successfully>"
      ]
     },
     "execution_count": 9,
     "metadata": {},
     "output_type": "execute_result"
    }
   ],
   "source": [
    "agent = PickPlaceAgent(num_rotations=12, lr=1e-4, device='cuda')\n",
    "agent.pick_model.load_state_dict(torch.load(\"/home/ubuntu/VLM/checkpoints/checkpoint_PairPack_epoch30.pth\")['pick_state_dict'])\n",
    "agent.place_model.load_state_dict(torch.load(\"/home/ubuntu/VLM/checkpoints/checkpoint_PairPack_epoch30.pth\")['place_state_dict'])"
   ]
  },
  {
   "cell_type": "code",
   "execution_count": 7,
   "metadata": {},
   "outputs": [],
   "source": [
    "train_dataset_cfg = {\"dataset\":{\"type\": \"single\",\n",
    "                    \"images\": True,\n",
    "                    \"cache\": False,\n",
    "                    \"augment\":{\"theta_sigma\":60},\n",
    "                    \"cache_size\": 350},\n",
    "                    }\n",
    "\n",
    "# load data\n",
    "train_dataset = RavensDataset('/home/ubuntu/cliport/data/packing-boxes-pairs-full-val', train_dataset_cfg, n_demos=100, augment=False)"
   ]
  },
  {
   "cell_type": "code",
   "execution_count": null,
   "metadata": {},
   "outputs": [],
   "source": [
    "total_reward = 0\n",
    "num_trials = 100\n",
    "for i in [1,3]:#range(num_trials):\n",
    "    env.start_rec(\"pick-place-pairs\" + str(i))\n",
    "\n",
    "    episode, seed = train_dataset.load(i)\n",
    "    task = tasks.names[\"packing-boxes-pairs-full\"]()\n",
    "    task.mode = \"train\"\n",
    "    env.seed(seed)\n",
    "    env.set_task(task)\n",
    "    obs = env.reset()\n",
    "    info = env.info\n",
    "    episode_reward = 0\n",
    "\n",
    "    lang_goal = info['lang_goal']\n",
    "    print(f'Lang Goal: {lang_goal}')\n",
    "    \n",
    "    for _ in range(10):\n",
    "        img = train_dataset.get_image(obs)\n",
    "        lang_goal = info['lang_goal']\n",
    "        act, affordances = agent.act(img, lang_goal)\n",
    "\n",
    "        obs, reward, done, info = env.step(act)\n",
    "        episode_reward += reward\n",
    "        total_reward += reward\n",
    "        print(\"Single timestep reward:\", reward)\n",
    "        if done:\n",
    "            break\n",
    "    print(\"Iteration:\", i)\n",
    "    print(\"Episode Reward:\", episode_reward)\n",
    "    print(\"Average Reward Across Episodes:\", total_reward/(i+1))\n",
    "    env.end_rec()\n"
   ]
  },
  {
   "cell_type": "code",
   "execution_count": 11,
   "metadata": {},
   "outputs": [],
   "source": [
    "env.end_rec()"
   ]
  }
 ],
 "metadata": {
  "kernelspec": {
   "display_name": "Python 3.8.10 ('cliport_env': venv)",
   "language": "python",
   "name": "python3"
  },
  "language_info": {
   "codemirror_mode": {
    "name": "ipython",
    "version": 3
   },
   "file_extension": ".py",
   "mimetype": "text/x-python",
   "name": "python",
   "nbconvert_exporter": "python",
   "pygments_lexer": "ipython3",
   "version": "3.8.10"
  },
  "orig_nbformat": 4,
  "vscode": {
   "interpreter": {
    "hash": "324ebeeaac71c80d764223a438f4ca7776ceeb8ded420916023e4585707f70ec"
   }
  }
 },
 "nbformat": 4,
 "nbformat_minor": 2
}
